{
 "cells": [
  {
   "cell_type": "code",
   "execution_count": 4,
   "metadata": {},
   "outputs": [],
   "source": [
    "import yfinance as yf\n",
    "from yahooquery import Ticker\n",
    "import requests"
   ]
  },
  {
   "cell_type": "code",
   "execution_count": 11,
   "metadata": {},
   "outputs": [],
   "source": [
    "def GetTrendingData():\n",
    "    def GetTrendingStocks():\n",
    "        trending_stocks_url = 'https://apewisdom.io/api/v1.0/filter/all-stocks/page/1'\n",
    "        response = requests.get(trending_stocks_url)\n",
    "        data = response.json()\n",
    "        tickers = [item[\"ticker\"] for item in data[\"results\"]]\n",
    "        return tickers\n",
    "    tickers = GetTrendingStocks()\n",
    "    tickers = tickers[0:20]\n",
    "    all_symbols = \" \".join(tickers)\n",
    "    myInfo = Ticker(all_symbols)\n",
    "    myDict = myInfo.price\n",
    "    returnlist = {}\n",
    "    for ticker in tickers:\n",
    "        try:\n",
    "            ticker = str(ticker)\n",
    "            price = myDict[ticker]['regularMarketPrice']\n",
    "            closingprice = myDict[ticker]['regularMarketPreviousClose']\n",
    "            percent = f\"{myDict[ticker]['regularMarketChangePercent'] * 100:.2f}%\"\n",
    "            tickeritem =  {\n",
    "                'current_price':\"{:.2f}\".format(price),\n",
    "                'change': \"{:.2f}\".format(price - closingprice),\n",
    "                'percent_change': percent,\n",
    "            }\n",
    "            returnlist[ticker] = tickeritem\n",
    "        except:\n",
    "            continue\n",
    "    return returnlist\n",
    "\n"
   ]
  },
  {
   "cell_type": "code",
   "execution_count": 12,
   "metadata": {},
   "outputs": [
    {
     "name": "stdout",
     "output_type": "stream",
     "text": [
      "{'maxAge': 1, 'preMarketChangePercent': 0.329477, 'preMarketChange': 1.4497, 'preMarketTime': '2023-07-24 06:29:59', 'preMarketPrice': 5.8497, 'preMarketSource': 'FREE_REALTIME', 'postMarketChangePercent': -0.082136706, 'postMarketChange': -0.48049974, 'postMarketTime': '2023-07-24 16:43:37', 'postMarketPrice': 5.3695, 'postMarketSource': 'FREE_REALTIME', 'regularMarketChangePercent': 0.329545, 'regularMarketChange': 1.45, 'regularMarketTime': '2023-07-24 13:00:01', 'priceHint': 2, 'regularMarketPrice': 5.85, 'regularMarketDayHigh': 6.23, 'regularMarketDayLow': 4.8702, 'regularMarketVolume': 251772731, 'averageDailyVolume10Day': {}, 'averageDailyVolume3Month': {}, 'regularMarketPreviousClose': 4.4, 'regularMarketSource': 'FREE_REALTIME', 'regularMarketOpen': 5.84, 'strikePrice': {}, 'openInterest': {}, 'exchange': 'NYQ', 'exchangeName': 'NYSE', 'exchangeDataDelayedBy': 0, 'marketState': 'POST', 'quoteType': 'EQUITY', 'symbol': 'AMC', 'underlyingSymbol': None, 'shortName': 'AMC Entertainment Holdings, Inc', 'longName': 'AMC Entertainment Holdings, Inc.', 'currency': 'USD', 'quoteSourceName': 'Nasdaq Real Time Price', 'currencySymbol': '$', 'fromCurrency': None, 'toCurrency': None, 'lastMarket': None, 'volume24Hr': {}, 'volumeAllCurrencies': {}, 'circulatingSupply': {}, 'marketCap': 5419463168}\n",
      "{'maxAge': 1, 'preMarketChangePercent': 0.00265384, 'preMarketChange': 1.20001, 'preMarketTime': '2023-07-24 06:29:58', 'preMarketPrice': 453.38, 'preMarketSource': 'FREE_REALTIME', 'postMarketChangePercent': 0.00037424683, 'postMarketChange': 0.16998291, 'postMarketTime': '2023-07-24 16:43:34', 'postMarketPrice': 454.37, 'postMarketSource': 'FREE_REALTIME', 'regularMarketChangePercent': 0.00446729, 'regularMarketChange': 2.02002, 'regularMarketTime': '2023-07-24 13:00:00', 'priceHint': 2, 'regularMarketPrice': 454.2, 'regularMarketDayHigh': 455.03, 'regularMarketDayLow': 452.298, 'regularMarketVolume': 53939396, 'averageDailyVolume10Day': {}, 'averageDailyVolume3Month': {}, 'regularMarketPreviousClose': 452.18, 'regularMarketSource': 'FREE_REALTIME', 'regularMarketOpen': 453.37, 'strikePrice': {}, 'openInterest': {}, 'exchange': 'PCX', 'exchangeName': 'NYSEArca', 'exchangeDataDelayedBy': 0, 'marketState': 'POST', 'quoteType': 'ETF', 'symbol': 'SPY', 'underlyingSymbol': None, 'shortName': 'SPDR S&P 500', 'longName': 'SPDR S&P 500 ETF Trust', 'currency': 'USD', 'quoteSourceName': 'Nasdaq Real Time Price', 'currencySymbol': '$', 'fromCurrency': None, 'toCurrency': None, 'lastMarket': None, 'volume24Hr': {}, 'volumeAllCurrencies': {}, 'circulatingSupply': {}, 'marketCap': 416856604672}\n",
      "{'maxAge': 1, 'preMarketChangePercent': -0.0163448, 'preMarketChange': -4.24998, 'preMarketTime': '2023-07-24 06:29:59', 'preMarketPrice': 255.77, 'preMarketSource': 'FREE_REALTIME', 'postMarketChangePercent': 0.0034936536, 'postMarketChange': 0.94000244, 'postMarketTime': '2023-07-24 16:43:39', 'postMarketPrice': 270.0, 'postMarketSource': 'FREE_REALTIME', 'regularMarketChangePercent': 0.034766592, 'regularMarketChange': 9.040009, 'regularMarketTime': '2023-07-24 13:00:01', 'priceHint': 2, 'regularMarketPrice': 269.06, 'regularMarketDayHigh': 269.85, 'regularMarketDayLow': 254.12, 'regularMarketVolume': 134779967, 'averageDailyVolume10Day': {}, 'averageDailyVolume3Month': {}, 'regularMarketPreviousClose': 260.02, 'regularMarketSource': 'FREE_REALTIME', 'regularMarketOpen': 255.85, 'strikePrice': {}, 'openInterest': {}, 'exchange': 'NMS', 'exchangeName': 'NasdaqGS', 'exchangeDataDelayedBy': 0, 'marketState': 'POST', 'quoteType': 'EQUITY', 'symbol': 'TSLA', 'underlyingSymbol': None, 'shortName': 'Tesla, Inc.', 'longName': 'Tesla, Inc.', 'currency': 'USD', 'quoteSourceName': 'Nasdaq Real Time Price', 'currencySymbol': '$', 'fromCurrency': None, 'toCurrency': None, 'lastMarket': None, 'volume24Hr': {}, 'volumeAllCurrencies': {}, 'circulatingSupply': {}, 'marketCap': 852785627136}\n",
      "{'maxAge': 1, 'preMarketChangePercent': 0.0092081, 'preMarketChange': 4.08002, 'preMarketTime': '2023-07-24 06:29:58', 'preMarketPrice': 447.17, 'preMarketSource': 'FREE_REALTIME', 'postMarketChangePercent': 0.0012776996, 'postMarketChange': 0.5700073, 'postMarketTime': '2023-07-24 16:43:37', 'postMarketPrice': 446.69, 'postMarketSource': 'FREE_REALTIME', 'regularMarketChangePercent': 0.006838337, 'regularMarketChange': 3.0299988, 'regularMarketTime': '2023-07-24 13:00:00', 'priceHint': 2, 'regularMarketPrice': 446.12, 'regularMarketDayHigh': 451.09, 'regularMarketDayLow': 440.4001, 'regularMarketVolume': 36667890, 'averageDailyVolume10Day': {}, 'averageDailyVolume3Month': {}, 'regularMarketPreviousClose': 443.09, 'regularMarketSource': 'FREE_REALTIME', 'regularMarketOpen': 447.31, 'strikePrice': {}, 'openInterest': {}, 'exchange': 'NMS', 'exchangeName': 'NasdaqGS', 'exchangeDataDelayedBy': 0, 'marketState': 'POST', 'quoteType': 'EQUITY', 'symbol': 'NVDA', 'underlyingSymbol': None, 'shortName': 'NVIDIA Corporation', 'longName': 'NVIDIA Corporation', 'currency': 'USD', 'quoteSourceName': 'Nasdaq Real Time Price', 'currencySymbol': '$', 'fromCurrency': None, 'toCurrency': None, 'lastMarket': None, 'volume24Hr': {}, 'volumeAllCurrencies': {}, 'circulatingSupply': {}, 'marketCap': 1101916405760}\n",
      "{'maxAge': 1, 'preMarketChangePercent': 0.0030688199, 'preMarketChange': 0.139999, 'preMarketTime': '2023-07-24 06:29:59', 'preMarketPrice': 45.76, 'preMarketSource': 'FREE_REALTIME', 'postMarketChangePercent': -0.00194637, 'postMarketChange': -0.0900002, 'postMarketTime': '2023-07-24 16:41:38', 'postMarketPrice': 46.15, 'postMarketSource': 'FREE_REALTIME', 'regularMarketChangePercent': 0.0135906, 'regularMarketChange': 0.620003, 'regularMarketTime': '2023-07-24 13:01:38', 'priceHint': 2, 'regularMarketPrice': 46.24, 'regularMarketDayHigh': 47.73, 'regularMarketDayLow': 43.01, 'regularMarketVolume': 21688473, 'averageDailyVolume10Day': {}, 'averageDailyVolume3Month': {}, 'regularMarketPreviousClose': 45.62, 'regularMarketSource': 'FREE_REALTIME', 'regularMarketOpen': 45.8, 'strikePrice': {}, 'openInterest': {}, 'exchange': 'NYQ', 'exchangeName': 'NYSE', 'exchangeDataDelayedBy': 0, 'marketState': 'POST', 'quoteType': 'EQUITY', 'symbol': 'CVNA', 'underlyingSymbol': None, 'shortName': 'Carvana Co.', 'longName': 'Carvana Co.', 'currency': 'USD', 'quoteSourceName': 'Nasdaq Real Time Price', 'currencySymbol': '$', 'fromCurrency': None, 'toCurrency': None, 'lastMarket': None, 'volume24Hr': {}, 'volumeAllCurrencies': {}, 'circulatingSupply': {}, 'marketCap': 8212224512}\n",
      "{'maxAge': 1, 'preMarketChangePercent': 0.00619602, 'preMarketChange': 2.13, 'preMarketTime': '2023-07-24 06:29:58', 'preMarketPrice': 345.9, 'preMarketSource': 'FREE_REALTIME', 'postMarketChangePercent': 0.0025789305, 'postMarketChange': 0.89001465, 'postMarketTime': '2023-07-24 16:43:38', 'postMarketPrice': 346.0, 'postMarketSource': 'FREE_REALTIME', 'regularMarketChangePercent': 0.0038979445, 'regularMarketChange': 1.3399963, 'regularMarketTime': '2023-07-24 13:00:01', 'priceHint': 2, 'regularMarketPrice': 345.11, 'regularMarketDayHigh': 346.92, 'regularMarketDayLow': 342.32, 'regularMarketVolume': 25691543, 'averageDailyVolume10Day': {}, 'averageDailyVolume3Month': {}, 'regularMarketPreviousClose': 343.77, 'regularMarketSource': 'FREE_REALTIME', 'regularMarketOpen': 345.85, 'strikePrice': {}, 'openInterest': {}, 'exchange': 'NMS', 'exchangeName': 'NasdaqGS', 'exchangeDataDelayedBy': 0, 'marketState': 'POST', 'quoteType': 'EQUITY', 'symbol': 'MSFT', 'underlyingSymbol': None, 'shortName': 'Microsoft Corporation', 'longName': 'Microsoft Corporation', 'currency': 'USD', 'quoteSourceName': 'Nasdaq Real Time Price', 'currencySymbol': '$', 'fromCurrency': None, 'toCurrency': None, 'lastMarket': None, 'volume24Hr': {}, 'volumeAllCurrencies': {}, 'circulatingSupply': {}, 'marketCap': 2566061817856}\n",
      "{'maxAge': 1, 'preMarketChangePercent': 0.00268884, 'preMarketChange': 1.01001, 'preMarketTime': '2023-07-24 06:29:59', 'preMarketPrice': 376.64, 'preMarketSource': 'FREE_REALTIME', 'postMarketChangePercent': 0.0003720706, 'postMarketChange': 0.13998413, 'postMarketTime': '2023-07-24 16:43:21', 'postMarketPrice': 376.37, 'postMarketSource': 'FREE_REALTIME', 'regularMarketChangePercent': 0.0015973328, 'regularMarketChange': 0.6000061, 'regularMarketTime': '2023-07-24 13:00:01', 'priceHint': 2, 'regularMarketPrice': 376.23, 'regularMarketDayHigh': 377.58, 'regularMarketDayLow': 374.34, 'regularMarketVolume': 38359579, 'averageDailyVolume10Day': {}, 'averageDailyVolume3Month': {}, 'regularMarketPreviousClose': 375.63, 'regularMarketSource': 'FREE_REALTIME', 'regularMarketOpen': 376.62, 'strikePrice': {}, 'openInterest': {}, 'exchange': 'NGM', 'exchangeName': 'NasdaqGM', 'exchangeDataDelayedBy': 0, 'marketState': 'POST', 'quoteType': 'ETF', 'symbol': 'QQQ', 'underlyingSymbol': None, 'shortName': 'Invesco QQQ Trust, Series 1', 'longName': 'Invesco QQQ Trust', 'currency': 'USD', 'quoteSourceName': 'Nasdaq Real Time Price', 'currencySymbol': '$', 'fromCurrency': None, 'toCurrency': None, 'lastMarket': None, 'volume24Hr': {}, 'volumeAllCurrencies': {}, 'circulatingSupply': {}, 'marketCap': 147896025088}\n",
      "Quote not found for ticker symbol: TA\n",
      "{'maxAge': 1, 'preMarketChangePercent': 0.00516546, 'preMarketChange': 1.51999, 'preMarketTime': '2023-07-24 06:29:58', 'preMarketPrice': 295.78, 'preMarketSource': 'FREE_REALTIME', 'postMarketChangePercent': 0.00096028706, 'postMarketChange': 0.2800293, 'postMarketTime': '2023-07-24 16:43:36', 'postMarketPrice': 291.89, 'postMarketSource': 'FREE_REALTIME', 'regularMarketChangePercent': -0.0090057235, 'regularMarketChange': -2.6500244, 'regularMarketTime': '2023-07-24 13:00:00', 'priceHint': 2, 'regularMarketPrice': 291.61, 'regularMarketDayHigh': 297.52, 'regularMarketDayLow': 288.3001, 'regularMarketVolume': 23690884, 'averageDailyVolume10Day': {}, 'averageDailyVolume3Month': {}, 'regularMarketPreviousClose': 294.26, 'regularMarketSource': 'FREE_REALTIME', 'regularMarketOpen': 295.78, 'strikePrice': {}, 'openInterest': {}, 'exchange': 'NMS', 'exchangeName': 'NasdaqGS', 'exchangeDataDelayedBy': 0, 'marketState': 'POST', 'quoteType': 'EQUITY', 'symbol': 'META', 'underlyingSymbol': None, 'shortName': 'Meta Platforms, Inc.', 'longName': 'Meta Platforms, Inc.', 'currency': 'USD', 'quoteSourceName': 'Nasdaq Real Time Price', 'currencySymbol': '$', 'fromCurrency': None, 'toCurrency': None, 'lastMarket': None, 'volume24Hr': {}, 'volumeAllCurrencies': {}, 'circulatingSupply': {}, 'marketCap': 747317624832}\n",
      "{'maxAge': 1, 'preMarketChangePercent': 0.0036705602, 'preMarketChange': 0.32, 'preMarketTime': '2023-07-24 06:29:59', 'preMarketPrice': 87.5, 'preMarketSource': 'FREE_REALTIME', 'postMarketChangePercent': 0.0015231478, 'postMarketChange': 0.1319046, 'postMarketTime': '2023-07-24 16:43:06', 'postMarketPrice': 86.7319, 'postMarketSource': 'FREE_REALTIME', 'regularMarketChangePercent': -0.00665292, 'regularMarketChange': -0.580002, 'regularMarketTime': '2023-07-24 13:03:06', 'priceHint': 2, 'regularMarketPrice': 86.6, 'regularMarketDayHigh': 87.95, 'regularMarketDayLow': 86.5501, 'regularMarketVolume': 12620482, 'averageDailyVolume10Day': {}, 'averageDailyVolume3Month': {}, 'regularMarketPreviousClose': 87.18, 'regularMarketSource': 'FREE_REALTIME', 'regularMarketOpen': 87.49, 'strikePrice': {}, 'openInterest': {}, 'exchange': 'NYQ', 'exchangeName': 'NYSE', 'exchangeDataDelayedBy': 0, 'marketState': 'POST', 'quoteType': 'EQUITY', 'symbol': 'DIS', 'underlyingSymbol': None, 'shortName': 'Walt Disney Company (The)', 'longName': 'The Walt Disney Company', 'currency': 'USD', 'quoteSourceName': 'Nasdaq Real Time Price', 'currencySymbol': '$', 'fromCurrency': None, 'toCurrency': None, 'lastMarket': None, 'volume24Hr': {}, 'volumeAllCurrencies': {}, 'circulatingSupply': {}, 'marketCap': 158244175872}\n",
      "{'maxAge': 1, 'preMarketChangePercent': -0.045183603, 'preMarketChange': -0.3199, 'preMarketTime': '2023-07-24 06:28:40', 'preMarketPrice': 6.7601, 'preMarketSource': 'FREE_REALTIME', 'postMarketChangePercent': -0.00358335, 'postMarketChange': -0.0215001, 'postMarketTime': '2023-07-24 16:36:03', 'postMarketPrice': 5.9785, 'postMarketSource': 'FREE_REALTIME', 'regularMarketChangePercent': -0.15254237, 'regularMarketChange': -1.0799999, 'regularMarketTime': '2023-07-24 13:00:00', 'priceHint': 2, 'regularMarketPrice': 6.0, 'regularMarketDayHigh': 6.94, 'regularMarketDayLow': 5.98, 'regularMarketVolume': 38802101, 'averageDailyVolume10Day': {}, 'averageDailyVolume3Month': {}, 'regularMarketPreviousClose': 7.08, 'regularMarketSource': 'FREE_REALTIME', 'regularMarketOpen': 6.77, 'strikePrice': {}, 'openInterest': {}, 'exchange': 'NMS', 'exchangeName': 'NasdaqGS', 'exchangeDataDelayedBy': 0, 'marketState': 'POST', 'quoteType': 'EQUITY', 'symbol': 'SIRI', 'underlyingSymbol': None, 'shortName': 'Sirius XM Holdings Inc.', 'longName': 'Sirius XM Holdings Inc.', 'currency': 'USD', 'quoteSourceName': 'Nasdaq Real Time Price', 'currencySymbol': '$', 'fromCurrency': None, 'toCurrency': None, 'lastMarket': None, 'volume24Hr': {}, 'volumeAllCurrencies': {}, 'circulatingSupply': {}, 'marketCap': 23210401792}\n",
      "{'maxAge': 1, 'preMarketChangePercent': 0.010204099, 'preMarketChange': 0.13, 'preMarketTime': '2023-07-24 06:29:58', 'preMarketPrice': 12.87, 'preMarketSource': 'FREE_REALTIME', 'postMarketChangePercent': 0.0023659095, 'postMarketChange': 0.029999733, 'postMarketTime': '2023-07-24 16:41:31', 'postMarketPrice': 12.71, 'postMarketSource': 'FREE_REALTIME', 'regularMarketChangePercent': -0.0047095297, 'regularMarketChange': -0.0599995, 'regularMarketTime': '2023-07-24 13:01:35', 'priceHint': 2, 'regularMarketPrice': 12.68, 'regularMarketDayHigh': 12.93, 'regularMarketDayLow': 12.545, 'regularMarketVolume': 22638620, 'averageDailyVolume10Day': {}, 'averageDailyVolume3Month': {}, 'regularMarketPreviousClose': 12.74, 'regularMarketSource': 'FREE_REALTIME', 'regularMarketOpen': 12.86, 'strikePrice': {}, 'openInterest': {}, 'exchange': 'NYQ', 'exchangeName': 'NYSE', 'exchangeDataDelayedBy': 0, 'marketState': 'POST', 'quoteType': 'EQUITY', 'symbol': 'SNAP', 'underlyingSymbol': None, 'shortName': 'Snap Inc.', 'longName': 'Snap Inc.', 'currency': 'USD', 'quoteSourceName': 'Nasdaq Real Time Price', 'currencySymbol': '$', 'fromCurrency': None, 'toCurrency': None, 'lastMarket': None, 'volume24Hr': {}, 'volumeAllCurrencies': {}, 'circulatingSupply': {}, 'marketCap': 20310444032}\n",
      "{'maxAge': 1, 'preMarketChangePercent': -0.0033347898, 'preMarketChange': -0.369995, 'preMarketTime': '2023-07-24 06:29:58', 'preMarketPrice': 110.58, 'preMarketSource': 'FREE_REALTIME', 'postMarketChangePercent': -0.0009944906, 'postMarketChange': -0.11000061, 'postMarketTime': '2023-07-24 16:43:30', 'postMarketPrice': 110.5, 'postMarketSource': 'FREE_REALTIME', 'regularMarketChangePercent': -0.0030644103, 'regularMarketChange': -0.33999634, 'regularMarketTime': '2023-07-24 13:00:01', 'priceHint': 2, 'regularMarketPrice': 110.61, 'regularMarketDayHigh': 111.05, 'regularMarketDayLow': 108.551, 'regularMarketVolume': 45442185, 'averageDailyVolume10Day': {}, 'averageDailyVolume3Month': {}, 'regularMarketPreviousClose': 110.95, 'regularMarketSource': 'FREE_REALTIME', 'regularMarketOpen': 110.617, 'strikePrice': {}, 'openInterest': {}, 'exchange': 'NMS', 'exchangeName': 'NasdaqGS', 'exchangeDataDelayedBy': 0, 'marketState': 'POST', 'quoteType': 'EQUITY', 'symbol': 'AMD', 'underlyingSymbol': None, 'shortName': 'Advanced Micro Devices, Inc.', 'longName': 'Advanced Micro Devices, Inc.', 'currency': 'USD', 'quoteSourceName': 'Nasdaq Real Time Price', 'currencySymbol': '$', 'fromCurrency': None, 'toCurrency': None, 'lastMarket': None, 'volume24Hr': {}, 'volumeAllCurrencies': {}, 'circulatingSupply': {}, 'marketCap': 178121932800}\n",
      "{'maxAge': 1, 'preMarketChangePercent': 0.00231006, 'preMarketChange': 0.959991, 'preMarketTime': '2023-07-24 06:29:54', 'preMarketPrice': 416.53, 'preMarketSource': 'FREE_REALTIME', 'postMarketChangePercent': 0.0004792663, 'postMarketChange': 0.2000122, 'postMarketTime': '2023-07-24 16:42:18', 'postMarketPrice': 417.53, 'postMarketSource': 'FREE_REALTIME', 'regularMarketChangePercent': 0.0042351, 'regularMarketChange': 1.75998, 'regularMarketTime': '2023-07-24 13:00:00', 'priceHint': 2, 'regularMarketPrice': 417.33, 'regularMarketDayHigh': 418.09, 'regularMarketDayLow': 416.015, 'regularMarketVolume': 3467497, 'averageDailyVolume10Day': {}, 'averageDailyVolume3Month': {}, 'regularMarketPreviousClose': 415.57, 'regularMarketSource': 'FREE_REALTIME', 'regularMarketOpen': 416.58, 'strikePrice': {}, 'openInterest': {}, 'exchange': 'PCX', 'exchangeName': 'NYSEArca', 'exchangeDataDelayedBy': 0, 'marketState': 'POST', 'quoteType': 'ETF', 'symbol': 'VOO', 'underlyingSymbol': None, 'shortName': 'Vanguard S&P 500 ETF', 'longName': 'Vanguard 500 Index Fund', 'currency': 'USD', 'quoteSourceName': 'Nasdaq Real Time Price', 'currencySymbol': '$', 'fromCurrency': None, 'toCurrency': None, 'lastMarket': None, 'volume24Hr': {}, 'volumeAllCurrencies': {}, 'circulatingSupply': {}, 'marketCap': {}}\n",
      "{'maxAge': 1, 'preMarketChangePercent': 0.0, 'preMarketChange': 0.0, 'preMarketTime': '2023-07-24 05:59:36', 'preMarketPrice': 115.12, 'preMarketSource': 'FREE_REALTIME', 'postMarketChangePercent': 0.0, 'postMarketChange': 0.0, 'postMarketTime': '2023-07-24 13:23:43', 'postMarketPrice': 115.01, 'postMarketSource': 'FREE_REALTIME', 'regularMarketChangePercent': -0.00095553003, 'regularMarketChange': -0.110001, 'regularMarketTime': '2023-07-24 13:03:40', 'priceHint': 2, 'regularMarketPrice': 115.01, 'regularMarketDayHigh': 115.47, 'regularMarketDayLow': 114.305, 'regularMarketVolume': 829759, 'averageDailyVolume10Day': {}, 'averageDailyVolume3Month': {}, 'regularMarketPreviousClose': 115.12, 'regularMarketSource': 'FREE_REALTIME', 'regularMarketOpen': 115.21, 'strikePrice': {}, 'openInterest': {}, 'exchange': 'NYQ', 'exchangeName': 'NYSE', 'exchangeDataDelayedBy': 0, 'marketState': 'POST', 'quoteType': 'EQUITY', 'symbol': 'DTE', 'underlyingSymbol': None, 'shortName': 'DTE Energy Company', 'longName': 'DTE Energy Company', 'currency': 'USD', 'quoteSourceName': 'Nasdaq Real Time Price', 'currencySymbol': '$', 'fromCurrency': None, 'toCurrency': None, 'lastMarket': None, 'volume24Hr': {}, 'volumeAllCurrencies': {}, 'circulatingSupply': {}, 'marketCap': 23704596480}\n",
      "{'maxAge': 1, 'preMarketChangePercent': 0.0076065, 'preMarketChange': 1.45999, 'preMarketTime': '2023-07-24 06:29:59', 'preMarketPrice': 193.4, 'preMarketSource': 'FREE_REALTIME', 'postMarketChangePercent': 0.0020751953, 'postMarketChange': 0.3999939, 'postMarketTime': '2023-07-24 16:43:40', 'postMarketPrice': 193.15, 'postMarketSource': 'FREE_REALTIME', 'regularMarketChangePercent': 0.004220056, 'regularMarketChange': 0.80999756, 'regularMarketTime': '2023-07-24 13:00:01', 'priceHint': 2, 'regularMarketPrice': 192.75, 'regularMarketDayHigh': 194.91, 'regularMarketDayLow': 192.29, 'regularMarketVolume': 44776111, 'averageDailyVolume10Day': {}, 'averageDailyVolume3Month': {}, 'regularMarketPreviousClose': 191.94, 'regularMarketSource': 'FREE_REALTIME', 'regularMarketOpen': 193.41, 'strikePrice': {}, 'openInterest': {}, 'exchange': 'NMS', 'exchangeName': 'NasdaqGS', 'exchangeDataDelayedBy': 0, 'marketState': 'POST', 'quoteType': 'EQUITY', 'symbol': 'AAPL', 'underlyingSymbol': None, 'shortName': 'Apple Inc.', 'longName': 'Apple Inc.', 'currency': 'USD', 'quoteSourceName': 'Nasdaq Real Time Price', 'currencySymbol': '$', 'fromCurrency': None, 'toCurrency': None, 'lastMarket': None, 'volume24Hr': {}, 'volumeAllCurrencies': {}, 'circulatingSupply': {}, 'marketCap': 3031706894336}\n",
      "{'maxAge': 1, 'preMarketChangePercent': 0.0022307201, 'preMarketChange': 0.289993, 'preMarketTime': '2023-07-24 06:29:58', 'preMarketPrice': 130.29, 'preMarketSource': 'FREE_REALTIME', 'postMarketChangePercent': 0.0, 'postMarketChange': 0.0, 'postMarketTime': '2023-07-24 16:43:34', 'postMarketPrice': 128.8, 'postMarketSource': 'FREE_REALTIME', 'regularMarketChangePercent': -0.009230746, 'regularMarketChange': -1.199997, 'regularMarketTime': '2023-07-24 13:00:01', 'priceHint': 2, 'regularMarketPrice': 128.8, 'regularMarketDayHigh': 131.66, 'regularMarketDayLow': 128.35, 'regularMarketVolume': 40081149, 'averageDailyVolume10Day': {}, 'averageDailyVolume3Month': {}, 'regularMarketPreviousClose': 130.0, 'regularMarketSource': 'FREE_REALTIME', 'regularMarketOpen': 130.305, 'strikePrice': {}, 'openInterest': {}, 'exchange': 'NMS', 'exchangeName': 'NasdaqGS', 'exchangeDataDelayedBy': 0, 'marketState': 'POST', 'quoteType': 'EQUITY', 'symbol': 'AMZN', 'underlyingSymbol': None, 'shortName': 'Amazon.com, Inc.', 'longName': 'Amazon.com, Inc.', 'currency': 'USD', 'quoteSourceName': 'Nasdaq Real Time Price', 'currencySymbol': '$', 'fromCurrency': None, 'toCurrency': None, 'lastMarket': None, 'volume24Hr': {}, 'volumeAllCurrencies': {}, 'circulatingSupply': {}, 'marketCap': 1321539600384}\n",
      "{'maxAge': 1, 'preMarketChangePercent': 0.000941877, 'preMarketChange': 0.0299988, 'preMarketTime': '2023-07-24 06:17:10', 'preMarketPrice': 31.88, 'preMarketSource': 'FREE_REALTIME', 'postMarketChangePercent': 0.000926864, 'postMarketChange': 0.0300026, 'postMarketTime': '2023-07-24 16:23:44', 'postMarketPrice': 32.4, 'postMarketSource': 'FREE_REALTIME', 'regularMarketChangePercent': 0.0163265, 'regularMarketChange': 0.519999, 'regularMarketTime': '2023-07-24 13:03:27', 'priceHint': 2, 'regularMarketPrice': 32.37, 'regularMarketDayHigh': 32.44, 'regularMarketDayLow': 31.93, 'regularMarketVolume': 2604698, 'averageDailyVolume10Day': {}, 'averageDailyVolume3Month': {}, 'regularMarketPreviousClose': 31.85, 'regularMarketSource': 'FREE_REALTIME', 'regularMarketOpen': 32.0, 'strikePrice': {}, 'openInterest': {}, 'exchange': 'NYQ', 'exchangeName': 'NYSE', 'exchangeDataDelayedBy': 0, 'marketState': 'POST', 'quoteType': 'EQUITY', 'symbol': 'IP', 'underlyingSymbol': None, 'shortName': 'International Paper Company', 'longName': 'International Paper Company', 'currency': 'USD', 'quoteSourceName': 'Nasdaq Real Time Price', 'currencySymbol': '$', 'fromCurrency': None, 'toCurrency': None, 'lastMarket': None, 'volume24Hr': {}, 'volumeAllCurrencies': {}, 'circulatingSupply': {}, 'marketCap': 11234234368}\n",
      "{'maxAge': 1, 'preMarketChangePercent': 0.00843877, 'preMarketChange': 0.0999994, 'preMarketTime': '2023-07-24 06:26:45', 'preMarketPrice': 11.95, 'preMarketSource': 'FREE_REALTIME', 'postMarketChangePercent': 0.0016625485, 'postMarketChange': 0.020000458, 'postMarketTime': '2023-07-24 16:15:29', 'postMarketPrice': 12.05, 'postMarketSource': 'DELAYED', 'regularMarketChangePercent': 0.0151898, 'regularMarketChange': 0.179999, 'regularMarketTime': '2023-07-24 13:00:02', 'priceHint': 2, 'regularMarketPrice': 12.03, 'regularMarketDayHigh': 12.04, 'regularMarketDayLow': 11.89, 'regularMarketVolume': 2283771, 'averageDailyVolume10Day': {}, 'averageDailyVolume3Month': {}, 'regularMarketPreviousClose': 11.85, 'regularMarketSource': 'FREE_REALTIME', 'regularMarketOpen': 11.9, 'strikePrice': {}, 'openInterest': {}, 'exchange': 'NYQ', 'exchangeName': 'NYSE', 'exchangeDataDelayedBy': 0, 'marketState': 'POST', 'quoteType': 'EQUITY', 'symbol': 'AM', 'underlyingSymbol': None, 'shortName': 'Antero Midstream Corporation', 'longName': 'Antero Midstream Corporation', 'currency': 'USD', 'quoteSourceName': 'Delayed Quote', 'currencySymbol': '$', 'fromCurrency': None, 'toCurrency': None, 'lastMarket': None, 'volume24Hr': {}, 'volumeAllCurrencies': {}, 'circulatingSupply': {}, 'marketCap': 5770261504}\n",
      "{'maxAge': 1, 'preMarketChangePercent': 0.0026161599, 'preMarketChange': 0.589996, 'preMarketTime': '2023-07-24 06:29:13', 'preMarketPrice': 226.11, 'preMarketSource': 'FREE_REALTIME', 'postMarketChangePercent': 0.00097201305, 'postMarketChange': 0.219986, 'postMarketTime': '2023-07-24 16:29:32', 'postMarketPrice': 226.54, 'postMarketSource': 'FREE_REALTIME', 'regularMarketChangePercent': 0.0035473702, 'regularMarketChange': 0.800003, 'regularMarketTime': '2023-07-24 13:00:00', 'priceHint': 2, 'regularMarketPrice': 226.32, 'regularMarketDayHigh': 226.71, 'regularMarketDayLow': 225.64, 'regularMarketVolume': 2238632, 'averageDailyVolume10Day': {}, 'averageDailyVolume3Month': {}, 'regularMarketPreviousClose': 225.52, 'regularMarketSource': 'FREE_REALTIME', 'regularMarketOpen': 226.05, 'strikePrice': {}, 'openInterest': {}, 'exchange': 'PCX', 'exchangeName': 'NYSEArca', 'exchangeDataDelayedBy': 0, 'marketState': 'POST', 'quoteType': 'ETF', 'symbol': 'VTI', 'underlyingSymbol': None, 'shortName': 'Vanguard Total Stock Market ETF', 'longName': 'Vanguard Total Stock Market Index Fund', 'currency': 'USD', 'quoteSourceName': 'Nasdaq Real Time Price', 'currencySymbol': '$', 'fromCurrency': None, 'toCurrency': None, 'lastMarket': None, 'volume24Hr': {}, 'volumeAllCurrencies': {}, 'circulatingSupply': {}, 'marketCap': 469324333056}\n"
     ]
    },
    {
     "data": {
      "text/plain": [
       "{'AMC': {'current_price': '5.85',\n",
       "  'change': '1.45',\n",
       "  'percent_change': '32.95%'},\n",
       " 'SPY': {'current_price': '454.20',\n",
       "  'change': '2.02',\n",
       "  'percent_change': '0.45%'},\n",
       " 'TSLA': {'current_price': '269.06',\n",
       "  'change': '9.04',\n",
       "  'percent_change': '3.48%'},\n",
       " 'NVDA': {'current_price': '446.12',\n",
       "  'change': '3.03',\n",
       "  'percent_change': '0.68%'},\n",
       " 'CVNA': {'current_price': '46.24',\n",
       "  'change': '0.62',\n",
       "  'percent_change': '1.36%'},\n",
       " 'MSFT': {'current_price': '345.11',\n",
       "  'change': '1.34',\n",
       "  'percent_change': '0.39%'},\n",
       " 'QQQ': {'current_price': '376.23',\n",
       "  'change': '0.60',\n",
       "  'percent_change': '0.16%'},\n",
       " 'META': {'current_price': '291.61',\n",
       "  'change': '-2.65',\n",
       "  'percent_change': '-0.90%'},\n",
       " 'DIS': {'current_price': '86.60',\n",
       "  'change': '-0.58',\n",
       "  'percent_change': '-0.67%'},\n",
       " 'SIRI': {'current_price': '6.00',\n",
       "  'change': '-1.08',\n",
       "  'percent_change': '-15.25%'},\n",
       " 'SNAP': {'current_price': '12.68',\n",
       "  'change': '-0.06',\n",
       "  'percent_change': '-0.47%'},\n",
       " 'AMD': {'current_price': '110.61',\n",
       "  'change': '-0.34',\n",
       "  'percent_change': '-0.31%'},\n",
       " 'VOO': {'current_price': '417.33',\n",
       "  'change': '1.76',\n",
       "  'percent_change': '0.42%'},\n",
       " 'DTE': {'current_price': '115.01',\n",
       "  'change': '-0.11',\n",
       "  'percent_change': '-0.10%'},\n",
       " 'AAPL': {'current_price': '192.75',\n",
       "  'change': '0.81',\n",
       "  'percent_change': '0.42%'},\n",
       " 'AMZN': {'current_price': '128.80',\n",
       "  'change': '-1.20',\n",
       "  'percent_change': '-0.92%'},\n",
       " 'IP': {'current_price': '32.37', 'change': '0.52', 'percent_change': '1.63%'},\n",
       " 'AM': {'current_price': '12.03', 'change': '0.18', 'percent_change': '1.52%'},\n",
       " 'VTI': {'current_price': '226.32',\n",
       "  'change': '0.80',\n",
       "  'percent_change': '0.35%'}}"
      ]
     },
     "execution_count": 12,
     "metadata": {},
     "output_type": "execute_result"
    }
   ],
   "source": [
    "GetTrendingData()"
   ]
  },
  {
   "cell_type": "code",
   "execution_count": 10,
   "metadata": {},
   "outputs": [
    {
     "data": {
      "text/plain": [
       "<yahooquery.ticker.Ticker at 0x2b5c7b6a9d0>"
      ]
     },
     "execution_count": 10,
     "metadata": {},
     "output_type": "execute_result"
    }
   ],
   "source": [
    "tickers = Ticker('fb', asynchronous=True)\n",
    "\n",
    "df = tickers.history(period='1mo', interval='1m')"
   ]
  },
  {
   "cell_type": "code",
   "execution_count": 23,
   "metadata": {},
   "outputs": [],
   "source": [
    "tickers = Ticker('aapl')\n",
    "\n",
    "df = tickers.history(period='1d', interval='1m')"
   ]
  },
  {
   "cell_type": "code",
   "execution_count": 33,
   "metadata": {},
   "outputs": [
    {
     "data": {
      "text/plain": [
       "3031706894336"
      ]
     },
     "execution_count": 33,
     "metadata": {},
     "output_type": "execute_result"
    }
   ],
   "source": [
    "tickers = Ticker('aapl').price['aapl']['marketCap']\n",
    "\n",
    "tickers"
   ]
  },
  {
   "cell_type": "code",
   "execution_count": 5,
   "metadata": {},
   "outputs": [],
   "source": [
    "def getTickerData(ticker):\n",
    "    tickerdata = Ticker('aapl').price[ticker]\n",
    "    returndic = {\n",
    "    'postMarketPrice' :tickerdata['postMarketPrice'],\n",
    "    'postMarketChange' :tickerdata['postMarketChange'],\n",
    "    'regularMarketChange' :tickerdata['regularMarketChange'],\n",
    "    'regularMarketChangePercent' : tickerdata['regularMarketChangePercent'],\n",
    "    'regularMarketPrice': tickerdata['regularMarketPrice'],\n",
    "    'regularMarketDayRange' : tickerdata['regularMarketDayRange'],\n",
    "    'regularMarketPreviousClose' : tickerdata['regularMarketPreviousClose'],\n",
    "    'fiftyTwoWeekRange' : tickerdata['fiftyTwoWeekRange'],\n",
    "    'regularMarketDayRange' : tickerdata['regularMarketDayRange'],\n",
    "    }\n",
    "    return returndic"
   ]
  },
  {
   "cell_type": "code",
   "execution_count": 6,
   "metadata": {},
   "outputs": [
    {
     "ename": "KeyError",
     "evalue": "'regularMarketDayRange'",
     "output_type": "error",
     "traceback": [
      "\u001b[1;31m---------------------------------------------------------------------------\u001b[0m",
      "\u001b[1;31mKeyError\u001b[0m                                  Traceback (most recent call last)",
      "Cell \u001b[1;32mIn[6], line 1\u001b[0m\n\u001b[1;32m----> 1\u001b[0m getTickerData(\u001b[39m'\u001b[39;49m\u001b[39maapl\u001b[39;49m\u001b[39m'\u001b[39;49m)\n",
      "Cell \u001b[1;32mIn[5], line 9\u001b[0m, in \u001b[0;36mgetTickerData\u001b[1;34m(ticker)\u001b[0m\n\u001b[0;32m      1\u001b[0m \u001b[39mdef\u001b[39;00m \u001b[39mgetTickerData\u001b[39m(ticker):\n\u001b[0;32m      2\u001b[0m     tickerdata \u001b[39m=\u001b[39m Ticker(\u001b[39m'\u001b[39m\u001b[39maapl\u001b[39m\u001b[39m'\u001b[39m)\u001b[39m.\u001b[39mprice[ticker]\n\u001b[0;32m      3\u001b[0m     returndic \u001b[39m=\u001b[39m {\n\u001b[0;32m      4\u001b[0m     \u001b[39m'\u001b[39m\u001b[39mpostMarketPrice\u001b[39m\u001b[39m'\u001b[39m :tickerdata[\u001b[39m'\u001b[39m\u001b[39mpostMarketPrice\u001b[39m\u001b[39m'\u001b[39m],\n\u001b[0;32m      5\u001b[0m     \u001b[39m'\u001b[39m\u001b[39mpostMarketChange\u001b[39m\u001b[39m'\u001b[39m :tickerdata[\u001b[39m'\u001b[39m\u001b[39mpostMarketChange\u001b[39m\u001b[39m'\u001b[39m],\n\u001b[0;32m      6\u001b[0m     \u001b[39m'\u001b[39m\u001b[39mregularMarketChange\u001b[39m\u001b[39m'\u001b[39m :tickerdata[\u001b[39m'\u001b[39m\u001b[39mregularMarketChange\u001b[39m\u001b[39m'\u001b[39m],\n\u001b[0;32m      7\u001b[0m     \u001b[39m'\u001b[39m\u001b[39mregularMarketChangePercent\u001b[39m\u001b[39m'\u001b[39m : tickerdata[\u001b[39m'\u001b[39m\u001b[39mregularMarketChangePercent\u001b[39m\u001b[39m'\u001b[39m],\n\u001b[0;32m      8\u001b[0m     \u001b[39m'\u001b[39m\u001b[39mregularMarketPrice\u001b[39m\u001b[39m'\u001b[39m: tickerdata[\u001b[39m'\u001b[39m\u001b[39mregularMarketPrice\u001b[39m\u001b[39m'\u001b[39m],\n\u001b[1;32m----> 9\u001b[0m     \u001b[39m'\u001b[39m\u001b[39mregularMarketDayRange\u001b[39m\u001b[39m'\u001b[39m : tickerdata[\u001b[39m'\u001b[39;49m\u001b[39mregularMarketDayRange\u001b[39;49m\u001b[39m'\u001b[39;49m],\n\u001b[0;32m     10\u001b[0m     \u001b[39m'\u001b[39m\u001b[39mregularMarketPreviousClose\u001b[39m\u001b[39m'\u001b[39m : tickerdata[\u001b[39m'\u001b[39m\u001b[39mregularMarketPreviousClose\u001b[39m\u001b[39m'\u001b[39m],\n\u001b[0;32m     11\u001b[0m     \u001b[39m'\u001b[39m\u001b[39mfiftyTwoWeekRange\u001b[39m\u001b[39m'\u001b[39m : tickerdata[\u001b[39m'\u001b[39m\u001b[39mfiftyTwoWeekRange\u001b[39m\u001b[39m'\u001b[39m],\n\u001b[0;32m     12\u001b[0m     \u001b[39m'\u001b[39m\u001b[39mregularMarketDayRange\u001b[39m\u001b[39m'\u001b[39m : tickerdata[\u001b[39m'\u001b[39m\u001b[39mregularMarketDayRange\u001b[39m\u001b[39m'\u001b[39m],\n\u001b[0;32m     13\u001b[0m     }\n\u001b[0;32m     14\u001b[0m     \u001b[39mreturn\u001b[39;00m returndic\n",
      "\u001b[1;31mKeyError\u001b[0m: 'regularMarketDayRange'"
     ]
    }
   ],
   "source": [
    "getTickerData('aapl')"
   ]
  },
  {
   "cell_type": "code",
   "execution_count": null,
   "metadata": {},
   "outputs": [],
   "source": []
  }
 ],
 "metadata": {
  "kernelspec": {
   "display_name": "Python 3",
   "language": "python",
   "name": "python3"
  },
  "language_info": {
   "codemirror_mode": {
    "name": "ipython",
    "version": 3
   },
   "file_extension": ".py",
   "mimetype": "text/x-python",
   "name": "python",
   "nbconvert_exporter": "python",
   "pygments_lexer": "ipython3",
   "version": "3.11.3"
  },
  "orig_nbformat": 4
 },
 "nbformat": 4,
 "nbformat_minor": 2
}
