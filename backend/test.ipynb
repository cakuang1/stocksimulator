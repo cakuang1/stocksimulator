{
 "cells": [
  {
   "cell_type": "code",
   "execution_count": 1,
   "metadata": {},
   "outputs": [],
   "source": [
    "import yfinance as yf\n",
    "from yahooquery import Ticker\n",
    "import requests\n",
    "import pandas as pd"
   ]
  },
  {
   "cell_type": "code",
   "execution_count": 2,
   "metadata": {},
   "outputs": [],
   "source": [
    "def getTickerData(ticker):\n",
    "    ## Need section for top and left\n",
    "\n",
    "    \n",
    "    tickertick = Ticker(ticker)\n",
    "    tickerdata = tickertick.price[ticker]\n",
    "    tickersummary = tickertick.summary_detail[ticker]\n",
    "    topdic = {\n",
    "        'regularMarketPrice': tickerdata['regularMarketPrice'],\n",
    "        'regularMarketChange' :tickerdata['regularMarketChange'],\n",
    "        'regularMarketChangePercent' : tickerdata['regularMarketChangePercent'],\n",
    "        'postMarketPrice' :tickerdata['postMarketPrice'],\n",
    "        'postMarketChange' :tickerdata['postMarketChange'],\n",
    "    }\n",
    "    returndic = {\n",
    "    'ticker': ticker,\n",
    "    'name':tickerdata['shortName'] ,\n",
    "    'exchange':tickerdata['exchangeName'],\n",
    "    'regularMarketVolume' : tickerdata['regularMarketVolume'],\n",
    "    'regularMarketPreviousClose' : tickerdata['regularMarketPreviousClose'],\n",
    "    'regularMarketDayHigh' : tickerdata['regularMarketPreviousClose'],\n",
    "    'regularMarketDayLow' : tickerdata['regularMarketPreviousClose'],\n",
    "    'volume' : tickersummary['volume'],\n",
    "    'averageDailyVolume3Month' : tickerdata['averageDailyVolume3Month'],\n",
    "    'averageDailyVolume10Day' : tickersummary['averageDailyVolume10Day'],\n",
    "    'regularMarketOpen' : tickerdata['regularMarketOpen'],\n",
    "    'trailingPE' : tickersummary['trailingPE'],\n",
    "    'forwardPE' : tickersummary['forwardPE'],\n",
    "    'marketcap' : tickersummary['marketCap'],\n",
    "    'marketcap' : tickersummary['marketCap'],\n",
    "    'marketcap' : tickersummary['marketCap']\n",
    "    }\n",
    "    return returndic\n",
    "def getTickerDaily(ticker):\n",
    "\n",
    "    return\n",
    "\n"
   ]
  },
  {
   "cell_type": "code",
   "execution_count": 14,
   "metadata": {},
   "outputs": [],
   "source": [
    "def GetTickerData(ticker):\n",
    "    def format_large_number(number):\n",
    "        if abs(number) >= 1e9:  # Billion or more\n",
    "            return f\"{number / 1e9:.2f}B\"\n",
    "        elif abs(number) >= 1e6:  # Million or more\n",
    "            return f\"{number / 1e6:.2f}M\"\n",
    "        else:\n",
    "            return str(number)\n",
    "    tickertick = Ticker(ticker)\n",
    "    tickerdata = tickertick.price[ticker]\n",
    "    tickerkeystats =tickertick.key_stats[ticker]\n",
    "    tickersummary = tickertick.summary_detail[ticker]\n",
    "    def getTopData():\n",
    "        topdic = {\n",
    "            'regularMarketPrice': round(tickerdata['regularMarketPrice'],2),\n",
    "            'regularMarketChange' :round(tickerdata['regularMarketChange'],2),\n",
    "            'regularMarketChangePercent' : round(tickerdata['regularMarketChangePercent'],2),\n",
    "            'postMarketPrice' : round(tickerdata['postMarketPrice'],2),\n",
    "            'postMarketChange' : round(tickerdata['postMarketChange'],2),\n",
    "        }\n",
    "        return topdic\n",
    "    def getBoxData():\n",
    "        returndic = {\n",
    "        'ticker': ticker,\n",
    "        'name':tickerdata['shortName'] ,\n",
    "        'exchange':tickerdata['exchangeName'],\n",
    "        'regularMarketVolume' : format_large_number(tickerdata['regularMarketVolume']),\n",
    "        'regularMarketPreviousClose' : tickerdata['regularMarketPreviousClose'],\n",
    "        'regularMarketDayHigh' : tickerdata['regularMarketDayHigh'],\n",
    "        'regularMarketDayLow' : tickerdata['regularMarketDayLow'],\n",
    "        'averageDailyVolume10Day' : format_large_number(tickersummary['averageDailyVolume10Day']),\n",
    "        'regularMarketOpen' : tickerdata['regularMarketOpen'],\n",
    "        'trailingPE' : tickersummary['trailingPE'],\n",
    "        'forwardPE' : tickersummary['forwardPE'],\n",
    "        'fiftyTwoWeekLow' : tickersummary['fiftyTwoWeekLow'],\n",
    "        'fiftyTwoWeekHigh' : tickersummary['fiftyTwoWeekHigh'],\n",
    "        'priceHint' : tickersummary['priceHint'],\n",
    "        'beta' : tickersummary['beta'],\n",
    "        'forwardEps' : tickerkeystats['forwardEps'],\n",
    "        'trailingEps' : tickerkeystats['trailingEps'],\n",
    "        'pricetobook' : round(tickerkeystats['priceToBook'],2),\n",
    "        'beta' : tickersummary['beta'],\n",
    "        'marketcap' : format_large_number(tickersummary['marketCap']),\n",
    "        }\n",
    "        return returndic\n",
    "    \n",
    "    def GetGraph(ticker):\n",
    "        df = Ticker(ticker).history(period = '1d',interval='1m').reset_index()[['date','open']]\n",
    "        df['date'] = df['date'].dt.strftime('%I:%M')    \n",
    "        df['open'] = df['open'].round(2)\n",
    "        df =df.rename(columns={'date': 'x', 'open': 'y'})\n",
    "        return df.to_dict(orient='records')\n",
    "\n",
    "    returndic = {'top': getTopData(),'box':getBoxData(),'graph':GetGraph(ticker)}\n",
    "    return returndic"
   ]
  },
  {
   "cell_type": "code",
   "execution_count": 16,
   "metadata": {},
   "outputs": [
    {
     "ename": "KeyError",
     "evalue": "'aapl'",
     "output_type": "error",
     "traceback": [
      "\u001b[1;31m---------------------------------------------------------------------------\u001b[0m",
      "\u001b[1;31mKeyError\u001b[0m                                  Traceback (most recent call last)",
      "Cell \u001b[1;32mIn[16], line 1\u001b[0m\n\u001b[1;32m----> 1\u001b[0m GetTickerData(\u001b[39m'\u001b[39;49m\u001b[39mtsla\u001b[39;49m\u001b[39m'\u001b[39;49m)\n",
      "Cell \u001b[1;32mIn[14], line 11\u001b[0m, in \u001b[0;36mGetTickerData\u001b[1;34m(ticker)\u001b[0m\n\u001b[0;32m      9\u001b[0m tickertick \u001b[39m=\u001b[39m Ticker(ticker)\n\u001b[0;32m     10\u001b[0m tickerdata \u001b[39m=\u001b[39m tickertick\u001b[39m.\u001b[39mprice[ticker]\n\u001b[1;32m---> 11\u001b[0m tickerkeystats \u001b[39m=\u001b[39mtickertick\u001b[39m.\u001b[39;49mkey_stats[\u001b[39m'\u001b[39;49m\u001b[39maapl\u001b[39;49m\u001b[39m'\u001b[39;49m]\n\u001b[0;32m     12\u001b[0m tickersummary \u001b[39m=\u001b[39m tickertick\u001b[39m.\u001b[39msummary_detail[ticker]\n\u001b[0;32m     13\u001b[0m \u001b[39mdef\u001b[39;00m \u001b[39mgetTopData\u001b[39m():\n",
      "\u001b[1;31mKeyError\u001b[0m: 'aapl'"
     ]
    }
   ],
   "source": [
    "GetTickerData('tsla')"
   ]
  },
  {
   "cell_type": "code",
   "execution_count": 9,
   "metadata": {},
   "outputs": [
    {
     "data": {
      "text/plain": [
       "dict_keys(['maxAge', 'priceHint', 'enterpriseValue', 'forwardPE', 'profitMargins', 'floatShares', 'sharesOutstanding', 'sharesShort', 'sharesShortPriorMonth', 'sharesShortPreviousMonthDate', 'dateShortInterest', 'sharesPercentSharesOut', 'heldPercentInsiders', 'heldPercentInstitutions', 'shortRatio', 'shortPercentOfFloat', 'beta', 'impliedSharesOutstanding', 'morningStarOverallRating', 'morningStarRiskRating', 'category', 'bookValue', 'priceToBook', 'annualReportExpenseRatio', 'ytdReturn', 'beta3Year', 'totalAssets', 'yield', 'fundFamily', 'fundInceptionDate', 'legalType', 'threeYearAverageReturn', 'fiveYearAverageReturn', 'priceToSalesTrailing12Months', 'lastFiscalYearEnd', 'nextFiscalYearEnd', 'mostRecentQuarter', 'earningsQuarterlyGrowth', 'revenueQuarterlyGrowth', 'netIncomeToCommon', 'trailingEps', 'forwardEps', 'pegRatio', 'lastSplitFactor', 'lastSplitDate', 'enterpriseToRevenue', 'enterpriseToEbitda', '52WeekChange', 'SandP52WeekChange', 'lastDividendValue', 'lastDividendDate', 'lastCapGain', 'annualHoldingsTurnover'])"
      ]
     },
     "execution_count": 9,
     "metadata": {},
     "output_type": "execute_result"
    }
   ],
   "source": [
    "aapl = Ticker('aapl').key_stats['aapl'].keys()\n",
    "aapl"
   ]
  },
  {
   "cell_type": "code",
   "execution_count": null,
   "metadata": {},
   "outputs": [],
   "source": []
  }
 ],
 "metadata": {
  "kernelspec": {
   "display_name": "Python 3",
   "language": "python",
   "name": "python3"
  },
  "language_info": {
   "codemirror_mode": {
    "name": "ipython",
    "version": 3
   },
   "file_extension": ".py",
   "mimetype": "text/x-python",
   "name": "python",
   "nbconvert_exporter": "python",
   "pygments_lexer": "ipython3",
   "version": "3.11.3"
  },
  "orig_nbformat": 4
 },
 "nbformat": 4,
 "nbformat_minor": 2
}
