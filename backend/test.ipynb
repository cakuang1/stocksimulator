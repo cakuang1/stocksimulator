{
 "cells": [
  {
   "cell_type": "code",
   "execution_count": 21,
   "metadata": {},
   "outputs": [],
   "source": [
    "import yfinance as yf\n",
    "from yahooquery import Ticker\n",
    "import requests\n",
    "import pandas as pd"
   ]
  },
  {
   "cell_type": "code",
   "execution_count": 19,
   "metadata": {},
   "outputs": [],
   "source": [
    "def getTickerData(ticker):\n",
    "    tickerdata = Ticker('aapl').price[ticker]\n",
    "    returndic = {\n",
    "    'ticker': ticker,\n",
    "    'name':tickerdata['shortName'] ,\n",
    "    'postMarketPrice' :tickerdata['postMarketPrice'],\n",
    "    'postMarketChange' :tickerdata['postMarketChange'],\n",
    "    'postMarketChangePercent' :tickerdata['postMarketChangePercent'],\n",
    "    'regularMarketChange' :tickerdata['regularMarketChange'],\n",
    "    'regularMarketChangePercent' : tickerdata['regularMarketChangePercent'],\n",
    "    'regularMarketPrice': tickerdata['regularMarketPrice'],\n",
    "    'regularMarketVolume' : tickerdata['regularMarketVolume'],\n",
    "    'regularMarketPrice' : tickerdata['regularMarketPrice'],\n",
    "    'regularMarketPreviousClose' : tickerdata['regularMarketPreviousClose'],\n",
    "    'regularMarketDayHigh' : tickerdata['regularMarketPreviousClose'],\n",
    "    'regularMarketDayLow' : tickerdata['regularMarketPreviousClose'],\n",
    "    'marketcap' : tickerdata['marketCap']\n",
    "    }\n",
    "    return returndic\n",
    "def getTickerDaily(ticker):\n",
    "\n",
    "\n",
    "    return\n",
    "\n",
    "\n",
    "\n",
    "\n"
   ]
  },
  {
   "cell_type": "code",
   "execution_count": 20,
   "metadata": {},
   "outputs": [
    {
     "data": {
      "text/plain": [
       "{'ticker': 'aapl',\n",
       " 'name': 'Apple Inc.',\n",
       " 'postMarketPrice': 195.95,\n",
       " 'postMarketChange': 0.11999512,\n",
       " 'postMarketChangePercent': 0.0006127514,\n",
       " 'regularMarketChange': 2.6100006,\n",
       " 'regularMarketChangePercent': 0.013507921,\n",
       " 'regularMarketPrice': 195.83,\n",
       " 'regularMarketVolume': 48291443,\n",
       " 'regularMarketPreviousClose': 193.22,\n",
       " 'regularMarketDayHigh': 193.22,\n",
       " 'regularMarketDayLow': 193.22,\n",
       " 'marketcap': 3080151367680}"
      ]
     },
     "execution_count": 20,
     "metadata": {},
     "output_type": "execute_result"
    }
   ],
   "source": [
    "getTickerData('aapl')"
   ]
  },
  {
   "cell_type": "code",
   "execution_count": 18,
   "metadata": {},
   "outputs": [
    {
     "data": {
      "text/plain": [
       "dict_keys(['maxAge', 'preMarketChange', 'preMarketPrice', 'preMarketSource', 'postMarketChangePercent', 'postMarketChange', 'postMarketTime', 'postMarketPrice', 'postMarketSource', 'regularMarketChangePercent', 'regularMarketChange', 'regularMarketTime', 'priceHint', 'regularMarketPrice', 'regularMarketDayHigh', 'regularMarketDayLow', 'regularMarketVolume', 'averageDailyVolume10Day', 'averageDailyVolume3Month', 'regularMarketPreviousClose', 'regularMarketSource', 'regularMarketOpen', 'strikePrice', 'openInterest', 'exchange', 'exchangeName', 'exchangeDataDelayedBy', 'marketState', 'quoteType', 'symbol', 'underlyingSymbol', 'shortName', 'longName', 'currency', 'quoteSourceName', 'currencySymbol', 'fromCurrency', 'toCurrency', 'lastMarket', 'volume24Hr', 'volumeAllCurrencies', 'circulatingSupply', 'marketCap'])"
      ]
     },
     "execution_count": 18,
     "metadata": {},
     "output_type": "execute_result"
    }
   ],
   "source": [
    "tickerdata = Ticker('aapl').price['aapl']\n",
    "tickerdata.keys()"
   ]
  },
  {
   "cell_type": "code",
   "execution_count": null,
   "metadata": {},
   "outputs": [],
   "source": []
  }
 ],
 "metadata": {
  "kernelspec": {
   "display_name": "Python 3",
   "language": "python",
   "name": "python3"
  },
  "language_info": {
   "codemirror_mode": {
    "name": "ipython",
    "version": 3
   },
   "file_extension": ".py",
   "mimetype": "text/x-python",
   "name": "python",
   "nbconvert_exporter": "python",
   "pygments_lexer": "ipython3",
   "version": "3.11.3"
  },
  "orig_nbformat": 4
 },
 "nbformat": 4,
 "nbformat_minor": 2
}
