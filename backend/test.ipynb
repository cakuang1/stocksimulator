{
 "cells": [
  {
   "cell_type": "code",
   "execution_count": 2,
   "metadata": {},
   "outputs": [],
   "source": [
    "import yfinance as yf\n",
    "from yahooquery import Ticker\n",
    "import requests\n",
    "import pandas as pd"
   ]
  },
  {
   "cell_type": "code",
   "execution_count": 29,
   "metadata": {},
   "outputs": [],
   "source": [
    "def getTickerData(ticker):\n",
    "    tickerdata = Ticker('aapl').price[ticker]\n",
    "    returndic = {\n",
    "    'ticker': ticker,\n",
    "    'name':tickerdata['shortName'] ,\n",
    "    'postMarketPrice' :tickerdata['postMarketPrice'],\n",
    "    'postMarketChange' :tickerdata['postMarketChange'],\n",
    "    'regularMarketChange' :tickerdata['regularMarketChange'],\n",
    "    'regularMarketChangePercent' : tickerdata['regularMarketChangePercent'],\n",
    "    'regularMarketPrice': tickerdata['regularMarketPrice'],\n",
    "    'regularMarketVolume' : tickerdata['regularMarketVolume'],\n",
    "    'regularMarketPrice' : tickerdata['regularMarketPrice'],\n",
    "    'regularMarketPreviousClose' : tickerdata['regularMarketPreviousClose'],\n",
    "    'regularMarketDayHigh' : tickerdata['regularMarketPreviousClose'],\n",
    "    'regularMarketDayLow' : tickerdata['regularMarketPreviousClose'],\n",
    "    'marketcap' : tickerdata['marketCap']\n",
    "    }\n",
    "    return returndic\n",
    "def getTickerDaily(ticker):\n",
    "\n",
    "\n",
    "\n",
    "\n",
    "    return\n",
    "\n"
   ]
  },
  {
   "cell_type": "code",
   "execution_count": 30,
   "metadata": {},
   "outputs": [
    {
     "data": {
      "text/plain": [
       "{'ticker': 'aapl',\n",
       " 'name': 'Apple Inc.',\n",
       " 'postMarketPrice': {},\n",
       " 'postMarketChange': {},\n",
       " 'regularMarketChange': 1.0200043,\n",
       " 'regularMarketChangePercent': 0.0057371296,\n",
       " 'regularMarketPrice': 178.81,\n",
       " 'regularMarketVolume': 27794303,\n",
       " 'regularMarketPreviousClose': 177.79,\n",
       " 'regularMarketDayHigh': 177.79,\n",
       " 'regularMarketDayLow': 177.79,\n",
       " 'marketcap': 2812448866304}"
      ]
     },
     "execution_count": 30,
     "metadata": {},
     "output_type": "execute_result"
    }
   ],
   "source": [
    "getTickerData('aapl')"
   ]
  },
  {
   "cell_type": "code",
   "execution_count": 5,
   "metadata": {},
   "outputs": [
    {
     "data": {
      "text/plain": [
       "dict_keys(['maxAge', 'preMarketChangePercent', 'preMarketChange', 'preMarketTime', 'preMarketPrice', 'preMarketSource', 'postMarketChange', 'postMarketPrice', 'regularMarketChangePercent', 'regularMarketChange', 'regularMarketTime', 'priceHint', 'regularMarketPrice', 'regularMarketDayHigh', 'regularMarketDayLow', 'regularMarketVolume', 'averageDailyVolume10Day', 'averageDailyVolume3Month', 'regularMarketPreviousClose', 'regularMarketSource', 'regularMarketOpen', 'strikePrice', 'openInterest', 'exchange', 'exchangeName', 'exchangeDataDelayedBy', 'marketState', 'quoteType', 'symbol', 'underlyingSymbol', 'shortName', 'longName', 'currency', 'quoteSourceName', 'currencySymbol', 'fromCurrency', 'toCurrency', 'lastMarket', 'volume24Hr', 'volumeAllCurrencies', 'circulatingSupply', 'marketCap'])"
      ]
     },
     "execution_count": 5,
     "metadata": {},
     "output_type": "execute_result"
    }
   ],
   "source": [
    "tickerdata = Ticker('aapl').price['aapl']\n",
    "tickerdata.keys()"
   ]
  },
  {
   "cell_type": "code",
   "execution_count": 6,
   "metadata": {},
   "outputs": [
    {
     "data": {
      "text/plain": [
       "'NasdaqGS'"
      ]
     },
     "execution_count": 6,
     "metadata": {},
     "output_type": "execute_result"
    }
   ],
   "source": [
    "Ticker('aapl').price['aapl']['exchangeName']"
   ]
  },
  {
   "cell_type": "code",
   "execution_count": 28,
   "metadata": {},
   "outputs": [
    {
     "data": {
      "text/plain": [
       "[{'x': '09:30', 'y': 177.97},\n",
       " {'x': '09:35', 'y': 178.26},\n",
       " {'x': '09:40', 'y': 178.49},\n",
       " {'x': '09:45', 'y': 178.4},\n",
       " {'x': '09:50', 'y': 177.95},\n",
       " {'x': '09:55', 'y': 178.36},\n",
       " {'x': '10:00', 'y': 178.27},\n",
       " {'x': '10:05', 'y': 178.29},\n",
       " {'x': '10:10', 'y': 178.25},\n",
       " {'x': '10:15', 'y': 178.53},\n",
       " {'x': '10:20', 'y': 178.27},\n",
       " {'x': '10:25', 'y': 178.58},\n",
       " {'x': '10:30', 'y': 178.27},\n",
       " {'x': '10:35', 'y': 178.79},\n",
       " {'x': '10:40', 'y': 179.16},\n",
       " {'x': '10:45', 'y': 179.09},\n",
       " {'x': '10:50', 'y': 179.36},\n",
       " {'x': '10:55', 'y': 179.62},\n",
       " {'x': '11:00', 'y': 179.44},\n",
       " {'x': '11:05', 'y': 179.5},\n",
       " {'x': '11:10', 'y': 179.24},\n",
       " {'x': '11:15', 'y': 179.07},\n",
       " {'x': '11:20', 'y': 179.15},\n",
       " {'x': '11:25', 'y': 179.17},\n",
       " {'x': '11:30', 'y': 179.35},\n",
       " {'x': '11:35', 'y': 179.14},\n",
       " {'x': '11:40', 'y': 179.21},\n",
       " {'x': '11:45', 'y': 179.22},\n",
       " {'x': '11:50', 'y': 179.38},\n",
       " {'x': '11:55', 'y': 179.31},\n",
       " {'x': '12:00', 'y': 179.01},\n",
       " {'x': '12:05', 'y': 179.15},\n",
       " {'x': '12:10', 'y': 179.09},\n",
       " {'x': '12:15', 'y': 178.93},\n",
       " {'x': '12:20', 'y': 178.97},\n",
       " {'x': '12:25', 'y': 178.74},\n",
       " {'x': '12:30', 'y': 178.71},\n",
       " {'x': '12:35', 'y': 178.68},\n",
       " {'x': '12:40', 'y': 178.83},\n",
       " {'x': '12:45', 'y': 178.94},\n",
       " {'x': '12:50', 'y': 179.18},\n",
       " {'x': '12:55', 'y': 179.13},\n",
       " {'x': '13:00', 'y': 179.17},\n",
       " {'x': '13:05', 'y': 179.23},\n",
       " {'x': '13:10', 'y': 179.33},\n",
       " {'x': '13:15', 'y': 179.27},\n",
       " {'x': '13:20', 'y': 179.33},\n",
       " {'x': '13:25', 'y': 179.31},\n",
       " {'x': '13:30', 'y': 179.23},\n",
       " {'x': '13:35', 'y': 179.12},\n",
       " {'x': '13:40', 'y': 179.18},\n",
       " {'x': '13:45', 'y': 179.2},\n",
       " {'x': '13:50', 'y': 179.13},\n",
       " {'x': '13:55', 'y': 179.18},\n",
       " {'x': '14:00', 'y': 179.17},\n",
       " {'x': '14:05', 'y': 179.29},\n",
       " {'x': '14:10', 'y': 179.05},\n",
       " {'x': '14:11', 'y': 179.03}]"
      ]
     },
     "execution_count": 28,
     "metadata": {},
     "output_type": "execute_result"
    }
   ],
   "source": [
    "df = Ticker('aapl').history(period = '1d',interval='5m').reset_index()[['date','open']]\n",
    "df['date'] = df['date'].dt.strftime('%H:%M')\n",
    "df['open'] = df['open'].round(2)\n",
    "df =df.rename(columns={'date': 'x', 'open': 'y'})\n",
    "df.to_dict(orient='records')\n",
    "\n",
    "\n",
    "\n",
    "\n"
   ]
  },
  {
   "cell_type": "code",
   "execution_count": 10,
   "metadata": {},
   "outputs": [
    {
     "name": "stdout",
     "output_type": "stream",
     "text": [
      "{'index': [0, 1, 2], 'columns': ['Name', 'Age', 'Country'], 'data': [['Alice', 25, 'USA'], ['Bob', 30, 'Canada'], ['Charlie', 28, 'UK']]}\n"
     ]
    }
   ],
   "source": [
    "data = {\n",
    "    'Name': ['Alice', 'Bob', 'Charlie'],\n",
    "    'Age': [25, 30, 28],\n",
    "    'Country': ['USA', 'Canada', 'UK']\n",
    "}\n",
    "df = pd.DataFrame(data)\n",
    "\n",
    "# Convert columns to a dictionary\n",
    "columns_dict = df.to_dict(orient='split')  # You can also use 'dict' or 'split' orientation\n",
    "\n",
    "print(columns_dict)"
   ]
  },
  {
   "cell_type": "code",
   "execution_count": null,
   "metadata": {},
   "outputs": [],
   "source": []
  }
 ],
 "metadata": {
  "kernelspec": {
   "display_name": "Python 3",
   "language": "python",
   "name": "python3"
  },
  "language_info": {
   "codemirror_mode": {
    "name": "ipython",
    "version": 3
   },
   "file_extension": ".py",
   "mimetype": "text/x-python",
   "name": "python",
   "nbconvert_exporter": "python",
   "pygments_lexer": "ipython3",
   "version": "3.11.3"
  },
  "orig_nbformat": 4
 },
 "nbformat": 4,
 "nbformat_minor": 2
}
